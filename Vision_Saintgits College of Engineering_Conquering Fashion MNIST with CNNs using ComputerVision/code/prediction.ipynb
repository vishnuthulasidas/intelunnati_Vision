{
 "cells": [
  {
   "cell_type": "code",
   "execution_count": 1,
   "id": "e21a0a8e-010d-4e60-9786-0e5bdadd8568",
   "metadata": {},
   "outputs": [
    {
     "name": "stderr",
     "output_type": "stream",
     "text": [
      "2023-07-14 09:38:01.202093: I tensorflow/core/platform/cpu_feature_guard.cc:182] This TensorFlow binary is optimized to use available CPU instructions in performance-critical operations.\n",
      "To enable the following instructions: AVX2 AVX512F FMA, in other operations, rebuild TensorFlow with the appropriate compiler flags.\n",
      "2023-07-14 09:38:06.235907: E itex/core/kernels/xpu_kernel.cc:38] XPU-GPU kernel not supported.\n",
      "If you need help, create an issue at https://github.com/intel/intel-extension-for-tensorflow/issues\n"
     ]
    }
   ],
   "source": [
    "import tensorflow as tf\n",
    "from tensorflow import keras\n",
    "import time\n",
    "import numpy as np\n",
    "\n",
    "import matplotlib.pyplot as plt"
   ]
  },
  {
   "cell_type": "code",
   "execution_count": 2,
   "id": "0b572250-cdf8-4bb4-b372-5caeb0cc5e52",
   "metadata": {},
   "outputs": [],
   "source": [
    "(_, _), (test_images, test_labels) = keras.datasets.fashion_mnist.load_data()\n",
    "\n",
    "test_images = test_images.reshape((-1, 28, 28, 1))\n",
    "test_images = test_images.astype(\"float32\")/255"
   ]
  },
  {
   "cell_type": "code",
   "execution_count": 3,
   "id": "a1227fa3-6937-4a89-a8c3-1d3cf29f7f39",
   "metadata": {},
   "outputs": [],
   "source": [
    "import openvino.runtime as ov\n",
    "core = ov.Core()\n",
    "compiled_model = core.compile_model(\"../models/IR_model/saved_model.xml\", \"AUTO\")"
   ]
  },
  {
   "cell_type": "code",
   "execution_count": 4,
   "id": "0196eede-0eba-490e-881e-3b2eeb33aeef",
   "metadata": {},
   "outputs": [],
   "source": [
    "infer_request = compiled_model.create_infer_request()"
   ]
  },
  {
   "cell_type": "code",
   "execution_count": 5,
   "id": "0f7e0aa7-8d52-47c0-894a-c9dd1bc71eef",
   "metadata": {},
   "outputs": [],
   "source": [
    "def predict_image(image):\n",
    "    plt.imshow(image, cmap='gray')\n",
    "    clothing = {0 : 'T-shirt',\n",
    "            1 : 'Trouser',\n",
    "            2 : 'Pullover',\n",
    "            3 : 'Dress',\n",
    "            4 : 'Coat',\n",
    "            5 : 'Sandal',\n",
    "            6 : 'Shirt',\n",
    "            7 : 'Sneaker',\n",
    "            8 : 'Bag',\n",
    "            9 : 'Ankle boot'}\n",
    "    image_array = np.array(np.expand_dims(image, axis=0), dtype=np.float32)\n",
    "    input_tensor = ov.Tensor(array=image_array, shared_memory=True)\n",
    "    infer_request.set_input_tensor(input_tensor)\n",
    "    output = infer_request.infer(input_tensor)\n",
    "    return clothing[np.argmax(output[0])]"
   ]
  },
  {
   "cell_type": "code",
   "execution_count": 11,
   "id": "cf4c5b45-4710-48da-9367-366b8b9deb12",
   "metadata": {},
   "outputs": [
    {
     "data": {
      "text/plain": [
       "'T-shirt'"
      ]
     },
     "execution_count": 11,
     "metadata": {},
     "output_type": "execute_result"
    },
    {
     "data": {
      "image/png": "[encoded data removed]",
      "text/plain": [
       "<Figure size 640x480 with 1 Axes>"
      ]
     },
     "metadata": {},
     "output_type": "display_data"
    }
   ],
   "source": [
    "predict_image(test_images[400])"
   ]
  },
  {
   "cell_type": "code",
   "execution_count": null,
   "id": "8139e2da-2309-42ba-a949-fad1f570a798",
   "metadata": {},
   "outputs": [],
   "source": []
  }
 ],
 "metadata": {
  "kernelspec": {
   "display_name": "Tensorflow (AI kit)",
   "language": "python",
   "name": "c009-intel_distribution_of_python_3_oneapi-beta05-tf"
  },
  "language_info": {
   "codemirror_mode": {
    "name": "ipython",
    "version": 3
   },
   "file_extension": ".py",
   "mimetype": "text/x-python",
   "name": "python",
   "nbconvert_exporter": "python",
   "pygments_lexer": "ipython3",
   "version": "3.9.16"
  }
 },
 "nbformat": 4,
 "nbformat_minor": 5
}
